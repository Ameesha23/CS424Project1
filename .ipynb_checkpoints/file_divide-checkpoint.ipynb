{
 "cells": [
  {
   "cell_type": "code",
   "execution_count": 1,
   "id": "626d9d79",
   "metadata": {},
   "outputs": [],
   "source": [
    "import pandas as pd"
   ]
  },
  {
   "cell_type": "code",
   "execution_count": 2,
   "id": "4d2e7820",
   "metadata": {},
   "outputs": [
    {
     "data": {
      "text/html": [
       "<div>\n",
       "<style scoped>\n",
       "    .dataframe tbody tr th:only-of-type {\n",
       "        vertical-align: middle;\n",
       "    }\n",
       "\n",
       "    .dataframe tbody tr th {\n",
       "        vertical-align: top;\n",
       "    }\n",
       "\n",
       "    .dataframe thead th {\n",
       "        text-align: right;\n",
       "    }\n",
       "</style>\n",
       "<table border=\"1\" class=\"dataframe\">\n",
       "  <thead>\n",
       "    <tr style=\"text-align: right;\">\n",
       "      <th></th>\n",
       "      <th>station_id</th>\n",
       "      <th>stationname</th>\n",
       "      <th>date</th>\n",
       "      <th>daytype</th>\n",
       "      <th>rides</th>\n",
       "    </tr>\n",
       "  </thead>\n",
       "  <tbody>\n",
       "    <tr>\n",
       "      <th>0</th>\n",
       "      <td>41280</td>\n",
       "      <td>Jefferson Park</td>\n",
       "      <td>12/22/2017</td>\n",
       "      <td>W</td>\n",
       "      <td>6,104</td>\n",
       "    </tr>\n",
       "    <tr>\n",
       "      <th>1</th>\n",
       "      <td>41000</td>\n",
       "      <td>Cermak-Chinatown</td>\n",
       "      <td>12/18/2017</td>\n",
       "      <td>W</td>\n",
       "      <td>3,636</td>\n",
       "    </tr>\n",
       "    <tr>\n",
       "      <th>2</th>\n",
       "      <td>40280</td>\n",
       "      <td>Central-Lake</td>\n",
       "      <td>12/02/2017</td>\n",
       "      <td>A</td>\n",
       "      <td>1,270</td>\n",
       "    </tr>\n",
       "    <tr>\n",
       "      <th>3</th>\n",
       "      <td>40140</td>\n",
       "      <td>Dempster-Skokie</td>\n",
       "      <td>12/19/2017</td>\n",
       "      <td>W</td>\n",
       "      <td>1,759</td>\n",
       "    </tr>\n",
       "    <tr>\n",
       "      <th>4</th>\n",
       "      <td>40690</td>\n",
       "      <td>Dempster</td>\n",
       "      <td>12/03/2017</td>\n",
       "      <td>U</td>\n",
       "      <td>499</td>\n",
       "    </tr>\n",
       "  </tbody>\n",
       "</table>\n",
       "</div>"
      ],
      "text/plain": [
       "   station_id       stationname        date daytype  rides\n",
       "0       41280    Jefferson Park  12/22/2017       W  6,104\n",
       "1       41000  Cermak-Chinatown  12/18/2017       W  3,636\n",
       "2       40280      Central-Lake  12/02/2017       A  1,270\n",
       "3       40140   Dempster-Skokie  12/19/2017       W  1,759\n",
       "4       40690          Dempster  12/03/2017       U    499"
      ]
     },
     "execution_count": 2,
     "metadata": {},
     "output_type": "execute_result"
    }
   ],
   "source": [
    "df = pd.read_csv ('CTA_-_Ridership_-__L__Station_Entries_-_Daily_Totals.csv')\n",
    "df.head()"
   ]
  },
  {
   "cell_type": "code",
   "execution_count": 3,
   "id": "b53d2e0d",
   "metadata": {},
   "outputs": [
    {
     "data": {
      "text/plain": [
       "(1088958, 5)"
      ]
     },
     "execution_count": 3,
     "metadata": {},
     "output_type": "execute_result"
    }
   ],
   "source": [
    "df.shape"
   ]
  },
  {
   "cell_type": "code",
   "execution_count": 6,
   "id": "e5c666b4",
   "metadata": {},
   "outputs": [
    {
     "data": {
      "text/plain": [
       "station_id      int64\n",
       "stationname    object\n",
       "date           object\n",
       "daytype        object\n",
       "rides          object\n",
       "dtype: object"
      ]
     },
     "execution_count": 6,
     "metadata": {},
     "output_type": "execute_result"
    }
   ],
   "source": [
    "df.dtypes"
   ]
  },
  {
   "cell_type": "code",
   "execution_count": 7,
   "id": "150158ca",
   "metadata": {},
   "outputs": [
    {
     "data": {
      "text/html": [
       "<div>\n",
       "<style scoped>\n",
       "    .dataframe tbody tr th:only-of-type {\n",
       "        vertical-align: middle;\n",
       "    }\n",
       "\n",
       "    .dataframe tbody tr th {\n",
       "        vertical-align: top;\n",
       "    }\n",
       "\n",
       "    .dataframe thead th {\n",
       "        text-align: right;\n",
       "    }\n",
       "</style>\n",
       "<table border=\"1\" class=\"dataframe\">\n",
       "  <thead>\n",
       "    <tr style=\"text-align: right;\">\n",
       "      <th></th>\n",
       "      <th>station_id</th>\n",
       "      <th>stationname</th>\n",
       "      <th>date</th>\n",
       "      <th>daytype</th>\n",
       "      <th>rides</th>\n",
       "    </tr>\n",
       "  </thead>\n",
       "  <tbody>\n",
       "    <tr>\n",
       "      <th>74</th>\n",
       "      <td>40350</td>\n",
       "      <td>UIC-Halsted</td>\n",
       "      <td>12/08/2017</td>\n",
       "      <td>W</td>\n",
       "      <td>7,462</td>\n",
       "    </tr>\n",
       "    <tr>\n",
       "      <th>113</th>\n",
       "      <td>40350</td>\n",
       "      <td>UIC-Halsted</td>\n",
       "      <td>12/30/2017</td>\n",
       "      <td>A</td>\n",
       "      <td>837</td>\n",
       "    </tr>\n",
       "    <tr>\n",
       "      <th>397</th>\n",
       "      <td>40350</td>\n",
       "      <td>UIC-Halsted</td>\n",
       "      <td>12/13/2017</td>\n",
       "      <td>W</td>\n",
       "      <td>5,828</td>\n",
       "    </tr>\n",
       "    <tr>\n",
       "      <th>568</th>\n",
       "      <td>40350</td>\n",
       "      <td>UIC-Halsted</td>\n",
       "      <td>12/11/2017</td>\n",
       "      <td>W</td>\n",
       "      <td>5,614</td>\n",
       "    </tr>\n",
       "    <tr>\n",
       "      <th>578</th>\n",
       "      <td>40350</td>\n",
       "      <td>UIC-Halsted</td>\n",
       "      <td>12/20/2017</td>\n",
       "      <td>W</td>\n",
       "      <td>3,072</td>\n",
       "    </tr>\n",
       "  </tbody>\n",
       "</table>\n",
       "</div>"
      ],
      "text/plain": [
       "     station_id  stationname        date daytype  rides\n",
       "74        40350  UIC-Halsted  12/08/2017       W  7,462\n",
       "113       40350  UIC-Halsted  12/30/2017       A    837\n",
       "397       40350  UIC-Halsted  12/13/2017       W  5,828\n",
       "568       40350  UIC-Halsted  12/11/2017       W  5,614\n",
       "578       40350  UIC-Halsted  12/20/2017       W  3,072"
      ]
     },
     "execution_count": 7,
     "metadata": {},
     "output_type": "execute_result"
    }
   ],
   "source": [
    "df_UICHalsted = df.loc[(df['station_id'] == 40350)]\n",
    "df_UICHalsted.head()"
   ]
  },
  {
   "cell_type": "code",
   "execution_count": 10,
   "id": "a1862b38",
   "metadata": {},
   "outputs": [
    {
     "data": {
      "text/plain": [
       "(7643, 5)"
      ]
     },
     "execution_count": 10,
     "metadata": {},
     "output_type": "execute_result"
    }
   ],
   "source": [
    "df_UICHalsted.shape"
   ]
  },
  {
   "cell_type": "code",
   "execution_count": 18,
   "id": "06d7e3f6",
   "metadata": {},
   "outputs": [],
   "source": [
    "df_UICHalsted.to_csv('UIC_Halsted.csv', sep=\",\")\n",
    "# df_UICHalsted.to_csv('UIC_Halsted.tsv', sep=\"\\t\")"
   ]
  },
  {
   "cell_type": "code",
   "execution_count": 24,
   "id": "eaa08870",
   "metadata": {},
   "outputs": [
    {
     "data": {
      "text/html": [
       "<div>\n",
       "<style scoped>\n",
       "    .dataframe tbody tr th:only-of-type {\n",
       "        vertical-align: middle;\n",
       "    }\n",
       "\n",
       "    .dataframe tbody tr th {\n",
       "        vertical-align: top;\n",
       "    }\n",
       "\n",
       "    .dataframe thead th {\n",
       "        text-align: right;\n",
       "    }\n",
       "</style>\n",
       "<table border=\"1\" class=\"dataframe\">\n",
       "  <thead>\n",
       "    <tr style=\"text-align: right;\">\n",
       "      <th></th>\n",
       "      <th>station_id</th>\n",
       "      <th>stationname</th>\n",
       "      <th>date</th>\n",
       "      <th>daytype</th>\n",
       "      <th>rides</th>\n",
       "    </tr>\n",
       "  </thead>\n",
       "  <tbody>\n",
       "    <tr>\n",
       "      <th>60</th>\n",
       "      <td>40890</td>\n",
       "      <td>O'Hare Airport</td>\n",
       "      <td>12/26/2017</td>\n",
       "      <td>W</td>\n",
       "      <td>11,094</td>\n",
       "    </tr>\n",
       "    <tr>\n",
       "      <th>538</th>\n",
       "      <td>40890</td>\n",
       "      <td>O'Hare Airport</td>\n",
       "      <td>12/01/2017</td>\n",
       "      <td>W</td>\n",
       "      <td>12,447</td>\n",
       "    </tr>\n",
       "    <tr>\n",
       "      <th>671</th>\n",
       "      <td>40890</td>\n",
       "      <td>O'Hare Airport</td>\n",
       "      <td>12/11/2017</td>\n",
       "      <td>W</td>\n",
       "      <td>10,136</td>\n",
       "    </tr>\n",
       "    <tr>\n",
       "      <th>857</th>\n",
       "      <td>40890</td>\n",
       "      <td>O'Hare Airport</td>\n",
       "      <td>12/12/2017</td>\n",
       "      <td>W</td>\n",
       "      <td>9,406</td>\n",
       "    </tr>\n",
       "    <tr>\n",
       "      <th>1062</th>\n",
       "      <td>40890</td>\n",
       "      <td>O'Hare Airport</td>\n",
       "      <td>12/25/2017</td>\n",
       "      <td>U</td>\n",
       "      <td>7,244</td>\n",
       "    </tr>\n",
       "  </tbody>\n",
       "</table>\n",
       "</div>"
      ],
      "text/plain": [
       "      station_id     stationname        date daytype   rides\n",
       "60         40890  O'Hare Airport  12/26/2017       W  11,094\n",
       "538        40890  O'Hare Airport  12/01/2017       W  12,447\n",
       "671        40890  O'Hare Airport  12/11/2017       W  10,136\n",
       "857        40890  O'Hare Airport  12/12/2017       W   9,406\n",
       "1062       40890  O'Hare Airport  12/25/2017       U   7,244"
      ]
     },
     "execution_count": 24,
     "metadata": {},
     "output_type": "execute_result"
    }
   ],
   "source": [
    "df_oHare = df.loc[(df['station_id'] == 40890)]\n",
    "df_oHare.head()"
   ]
  },
  {
   "cell_type": "code",
   "execution_count": 25,
   "id": "487e34c8",
   "metadata": {},
   "outputs": [
    {
     "data": {
      "text/plain": [
       "(7639, 5)"
      ]
     },
     "execution_count": 25,
     "metadata": {},
     "output_type": "execute_result"
    }
   ],
   "source": [
    "df_oHare.shape"
   ]
  },
  {
   "cell_type": "code",
   "execution_count": 20,
   "id": "c25f9089",
   "metadata": {},
   "outputs": [],
   "source": [
    "# df_oHare.to_csv('Ohare.csv', sep=\",\")\n",
    "df_oHare.to_csv('Ohare.tsv', sep=\"\\t\")"
   ]
  },
  {
   "cell_type": "code",
   "execution_count": 21,
   "id": "4215cd32",
   "metadata": {},
   "outputs": [
    {
     "data": {
      "text/html": [
       "<div>\n",
       "<style scoped>\n",
       "    .dataframe tbody tr th:only-of-type {\n",
       "        vertical-align: middle;\n",
       "    }\n",
       "\n",
       "    .dataframe tbody tr th {\n",
       "        vertical-align: top;\n",
       "    }\n",
       "\n",
       "    .dataframe thead th {\n",
       "        text-align: right;\n",
       "    }\n",
       "</style>\n",
       "<table border=\"1\" class=\"dataframe\">\n",
       "  <thead>\n",
       "    <tr style=\"text-align: right;\">\n",
       "      <th></th>\n",
       "      <th>station_id</th>\n",
       "      <th>stationname</th>\n",
       "      <th>date</th>\n",
       "      <th>daytype</th>\n",
       "      <th>rides</th>\n",
       "    </tr>\n",
       "  </thead>\n",
       "  <tbody>\n",
       "    <tr>\n",
       "      <th>32</th>\n",
       "      <td>40370</td>\n",
       "      <td>Washington/Dearborn</td>\n",
       "      <td>12/23/2017</td>\n",
       "      <td>A</td>\n",
       "      <td>6,744</td>\n",
       "    </tr>\n",
       "    <tr>\n",
       "      <th>250</th>\n",
       "      <td>40370</td>\n",
       "      <td>Washington/Dearborn</td>\n",
       "      <td>12/25/2017</td>\n",
       "      <td>U</td>\n",
       "      <td>1,696</td>\n",
       "    </tr>\n",
       "    <tr>\n",
       "      <th>686</th>\n",
       "      <td>40370</td>\n",
       "      <td>Washington/Dearborn</td>\n",
       "      <td>12/20/2017</td>\n",
       "      <td>W</td>\n",
       "      <td>13,896</td>\n",
       "    </tr>\n",
       "    <tr>\n",
       "      <th>728</th>\n",
       "      <td>40370</td>\n",
       "      <td>Washington/Dearborn</td>\n",
       "      <td>12/30/2017</td>\n",
       "      <td>A</td>\n",
       "      <td>4,182</td>\n",
       "    </tr>\n",
       "    <tr>\n",
       "      <th>743</th>\n",
       "      <td>40370</td>\n",
       "      <td>Washington/Dearborn</td>\n",
       "      <td>12/16/2017</td>\n",
       "      <td>A</td>\n",
       "      <td>7,984</td>\n",
       "    </tr>\n",
       "  </tbody>\n",
       "</table>\n",
       "</div>"
      ],
      "text/plain": [
       "     station_id          stationname        date daytype   rides\n",
       "32        40370  Washington/Dearborn  12/23/2017       A   6,744\n",
       "250       40370  Washington/Dearborn  12/25/2017       U   1,696\n",
       "686       40370  Washington/Dearborn  12/20/2017       W  13,896\n",
       "728       40370  Washington/Dearborn  12/30/2017       A   4,182\n",
       "743       40370  Washington/Dearborn  12/16/2017       A   7,984"
      ]
     },
     "execution_count": 21,
     "metadata": {},
     "output_type": "execute_result"
    }
   ],
   "source": [
    "df_Washington = df.loc[(df['station_id'] == 40370)]\n",
    "df_Washington.head()"
   ]
  },
  {
   "cell_type": "code",
   "execution_count": 22,
   "id": "801cc00f",
   "metadata": {},
   "outputs": [
    {
     "data": {
      "text/plain": [
       "(7646, 5)"
      ]
     },
     "execution_count": 22,
     "metadata": {},
     "output_type": "execute_result"
    }
   ],
   "source": [
    "df_Washington.shape"
   ]
  },
  {
   "cell_type": "code",
   "execution_count": 27,
   "id": "c6261110",
   "metadata": {},
   "outputs": [],
   "source": [
    "# df_Washington.to_csv('Washington.csv', sep=\",\")\n",
    "df_Washington.to_csv('Washington.tsv', sep=\"\\t\")"
   ]
  },
  {
   "cell_type": "code",
   "execution_count": null,
   "id": "d818c790",
   "metadata": {},
   "outputs": [],
   "source": []
  }
 ],
 "metadata": {
  "kernelspec": {
   "display_name": "Python 3.9.2 64-bit",
   "language": "python",
   "name": "python39264bit05f04888200f4bd5a4992cdac5bb0d5b"
  },
  "language_info": {
   "codemirror_mode": {
    "name": "ipython",
    "version": 3
   },
   "file_extension": ".py",
   "mimetype": "text/x-python",
   "name": "python",
   "nbconvert_exporter": "python",
   "pygments_lexer": "ipython3",
   "version": "3.9.2"
  }
 },
 "nbformat": 4,
 "nbformat_minor": 5
}
